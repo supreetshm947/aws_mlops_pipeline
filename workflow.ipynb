{
 "cells": [
  {
   "cell_type": "code",
   "execution_count": 1,
   "metadata": {},
   "outputs": [
    {
     "name": "stdout",
     "output_type": "stream",
     "text": [
      "sagemaker.config INFO - Not applying SDK defaults from location: /etc/xdg/sagemaker/config.yaml\n",
      "sagemaker.config INFO - Not applying SDK defaults from location: /home/supreet/.config/sagemaker/config.yaml\n"
     ]
    }
   ],
   "source": [
    "import sagemaker\n",
    "from sagemaker.sklearn.estimator import SKLearn\n",
    "from constants import AWS_ROLE, DATA_BUCKET_NAME, DATA_FILE_NAME, ARTIFACT_BUCKET_NAME\n",
    "from sagemaker.sklearn.model import SKLearnModel\n",
    "import json\n",
    "from sagemaker import ModelMetrics, MetricsSource\n",
    "import boto3\n",
    "import pandas as pd\n",
    "import numpy as np\n",
    "from sagemaker.inputs import TrainingInput\n",
    "from sagemaker.serializers import CSVSerializer"
   ]
  },
  {
   "cell_type": "code",
   "execution_count": 2,
   "metadata": {},
   "outputs": [],
   "source": [
    "s3_client = boto3.client('s3')\n",
    "sagemaker_session = sagemaker.Session()"
   ]
  },
  {
   "cell_type": "code",
   "execution_count": 3,
   "metadata": {},
   "outputs": [],
   "source": [
    "data_bucket = DATA_BUCKET_NAME\n",
    "role = AWS_ROLE\n",
    "artifact_bucket = ARTIFACT_BUCKET_NAME"
   ]
  },
  {
   "cell_type": "code",
   "execution_count": 31,
   "metadata": {},
   "outputs": [],
   "source": [
    "s3_client.download_file(\n",
    "    data_bucket,\n",
    "    DATA_FILE_NAME,\n",
    "    DATA_FILE_NAME,\n",
    ")"
   ]
  },
  {
   "cell_type": "code",
   "execution_count": 42,
   "metadata": {},
   "outputs": [],
   "source": [
    "iris = pd.read_csv(f\"./{DATA_FILE_NAME}\")\n",
    "iris['variety'] = iris['variety'].astype('category').cat.codes\n",
    "iris = pd.concat(\n",
    "    [iris[\"variety\"], iris.drop([\"variety\"], axis=1)], axis=1\n",
    ")"
   ]
  },
  {
   "cell_type": "code",
   "execution_count": 65,
   "metadata": {},
   "outputs": [
    {
     "name": "stderr",
     "output_type": "stream",
     "text": [
      "/home/supreet/miniconda3/envs/aws_pipeline/lib/python3.11/site-packages/numpy/core/fromnumeric.py:59: FutureWarning: 'DataFrame.swapaxes' is deprecated and will be removed in a future version. Please use 'DataFrame.transpose' instead.\n",
      "  return bound(*args, **kwds)\n"
     ]
    }
   ],
   "source": [
    "train_data, validation_data, test_data = np.split(\n",
    "    iris.sample(frac=1, random_state=1729),\n",
    "    [int(0.7 * len(iris)), int(0.9 * len(iris))],\n",
    ")\n",
    "train_data.to_csv(\"train.csv\", header=False, index=False)\n",
    "validation_data.to_csv(\"validation.csv\", header=False, index=False)\n",
    "test_data.to_csv(\"test.csv\", header=False, index=False)"
   ]
  },
  {
   "cell_type": "code",
   "execution_count": 44,
   "metadata": {},
   "outputs": [],
   "source": [
    "s3_client.upload_file(\"train.csv\", data_bucket, \"train.csv\")\n",
    "s3_client.upload_file(\"validation.csv\", data_bucket, \"validation.csv\")"
   ]
  },
  {
   "cell_type": "code",
   "execution_count": 54,
   "metadata": {},
   "outputs": [],
   "source": [
    "train_input = TrainingInput(f\"s3://{data_bucket}/train.csv\", content_type=\"text/csv\")\n",
    "validation_input = TrainingInput(f\"s3://{data_bucket}/validation.csv\", content_type=\"text/csv\")"
   ]
  },
  {
   "cell_type": "code",
   "execution_count": 50,
   "metadata": {},
   "outputs": [],
   "source": [
    "num_classes = len(set(iris.variety))"
   ]
  },
  {
   "cell_type": "code",
   "execution_count": 46,
   "metadata": {},
   "outputs": [
    {
     "name": "stderr",
     "output_type": "stream",
     "text": [
      "INFO:sagemaker.image_uris:Defaulting to only available Python version: py3\n",
      "INFO:sagemaker.image_uris:Defaulting to only supported image scope: cpu.\n"
     ]
    }
   ],
   "source": [
    "container = sagemaker.image_uris.retrieve(\"xgboost\", sagemaker_session.boto_region_name, version=\"1.0-1\")"
   ]
  },
  {
   "cell_type": "code",
   "execution_count": 55,
   "metadata": {},
   "outputs": [
    {
     "name": "stderr",
     "output_type": "stream",
     "text": [
      "INFO:sagemaker:Creating training-job with name: sagemaker-xgboost-2024-10-27-16-02-45-080\n"
     ]
    },
    {
     "name": "stdout",
     "output_type": "stream",
     "text": [
      "2024-10-27 16:02:47 Starting - Starting the training job...\n",
      "2024-10-27 16:03:21 Downloading - Downloading input data...\n",
      "2024-10-27 16:03:41 Downloading - Downloading the training image...\n",
      "2024-10-27 16:04:22 Training - Training image download completed. Training in progress...[2024-10-27 16:04:33.624 ip-10-0-195-99.eu-north-1.compute.internal:7 INFO utils.py:27] RULE_JOB_STOP_SIGNAL_FILENAME: None\n",
      "INFO:sagemaker-containers:Imported framework sagemaker_xgboost_container.training\n",
      "INFO:sagemaker-containers:Failed to parse hyperparameter objective value multi:softmax to Json.\n",
      "Returning the value itself\n",
      "INFO:sagemaker-containers:No GPUs detected (normal if no gpus installed)\n",
      "INFO:sagemaker_xgboost_container.training:Running XGBoost Sagemaker in algorithm mode\n",
      "INFO:root:Determined delimiter of CSV input is ','\n",
      "INFO:root:Determined delimiter of CSV input is ','\n",
      "INFO:root:Determined delimiter of CSV input is ','\n",
      "INFO:root:Determined delimiter of CSV input is ','\n",
      "INFO:root:Single node training.\n",
      "[16:04:33] 105x4 matrix with 420 entries loaded from /opt/ml/input/data/train?format=csv&label_column=0&delimiter=,\n",
      "[16:04:33] 30x4 matrix with 120 entries loaded from /opt/ml/input/data/validation?format=csv&label_column=0&delimiter=,\n",
      "[2024-10-27 16:04:33.711 ip-10-0-195-99.eu-north-1.compute.internal:7 INFO json_config.py:91] Creating hook from json_config at /opt/ml/input/config/debughookconfig.json.\n",
      "[2024-10-27 16:04:33.711 ip-10-0-195-99.eu-north-1.compute.internal:7 INFO hook.py:201] tensorboard_dir has not been set for the hook. SMDebug will not be exporting tensorboard summaries.\n",
      "[2024-10-27 16:04:33.712 ip-10-0-195-99.eu-north-1.compute.internal:7 INFO profiler_config_parser.py:102] User has disabled profiler.\n",
      "[2024-10-27 16:04:33.712 ip-10-0-195-99.eu-north-1.compute.internal:7 INFO hook.py:255] Saving to /opt/ml/output/tensors\n",
      "[2024-10-27 16:04:33.712 ip-10-0-195-99.eu-north-1.compute.internal:7 INFO state_store.py:77] The checkpoint config file /opt/ml/input/config/checkpointconfig.json does not exist.\n",
      "INFO:root:Debug hook created from config\n",
      "INFO:root:Train matrix has 105 rows\n",
      "INFO:root:Validation matrix has 30 rows\n",
      "[16:04:33] WARNING: /workspace/src/learner.cc:328: \n",
      "Parameters: { num_round } might not be used.\n",
      "  This may not be accurate due to some parameters are only used in language bindings but\n",
      "  passed down to XGBoost core.  Or some parameters are not used but slip through this\n",
      "  verification. Please open an issue if you find above cases.\n",
      "[0]#011train-merror:0.01905#011validation-merror:0.03333\n",
      "[2024-10-27 16:04:33.716 ip-10-0-195-99.eu-north-1.compute.internal:7 INFO hook.py:423] Monitoring the collections: metrics\n",
      "[2024-10-27 16:04:33.718 ip-10-0-195-99.eu-north-1.compute.internal:7 INFO hook.py:486] Hook is writing from the hook with pid: 7\n",
      "[1]#011train-merror:0.01905#011validation-merror:0.03333\n",
      "[2]#011train-merror:0.01905#011validation-merror:0.03333\n",
      "[3]#011train-merror:0.01905#011validation-merror:0.03333\n",
      "[4]#011train-merror:0.01905#011validation-merror:0.03333\n",
      "[5]#011train-merror:0.00000#011validation-merror:0.03333\n",
      "[6]#011train-merror:0.00000#011validation-merror:0.03333\n",
      "[7]#011train-merror:0.00000#011validation-merror:0.03333\n",
      "[8]#011train-merror:0.00000#011validation-merror:0.03333\n",
      "[9]#011train-merror:0.00000#011validation-merror:0.03333\n",
      "[10]#011train-merror:0.00000#011validation-merror:0.03333\n",
      "[11]#011train-merror:0.00000#011validation-merror:0.03333\n",
      "[12]#011train-merror:0.00000#011validation-merror:0.03333\n",
      "[13]#011train-merror:0.00000#011validation-merror:0.03333\n",
      "[14]#011train-merror:0.00000#011validation-merror:0.03333\n",
      "[15]#011train-merror:0.00000#011validation-merror:0.03333\n",
      "[16]#011train-merror:0.00000#011validation-merror:0.03333\n",
      "[17]#011train-merror:0.00000#011validation-merror:0.03333\n",
      "[18]#011train-merror:0.00000#011validation-merror:0.03333\n",
      "[19]#011train-merror:0.00000#011validation-merror:0.03333\n",
      "[20]#011train-merror:0.00000#011validation-merror:0.03333\n",
      "[21]#011train-merror:0.00000#011validation-merror:0.03333\n",
      "[22]#011train-merror:0.00000#011validation-merror:0.03333\n",
      "[23]#011train-merror:0.00000#011validation-merror:0.03333\n",
      "[24]#011train-merror:0.00000#011validation-merror:0.03333\n",
      "[25]#011train-merror:0.00000#011validation-merror:0.03333\n",
      "[26]#011train-merror:0.00000#011validation-merror:0.03333\n",
      "[27]#011train-merror:0.00000#011validation-merror:0.03333\n",
      "[28]#011train-merror:0.00000#011validation-merror:0.03333\n",
      "[29]#011train-merror:0.00000#011validation-merror:0.03333\n",
      "[30]#011train-merror:0.00000#011validation-merror:0.03333\n",
      "[31]#011train-merror:0.00000#011validation-merror:0.03333\n",
      "[32]#011train-merror:0.00000#011validation-merror:0.03333\n",
      "[33]#011train-merror:0.00000#011validation-merror:0.03333\n",
      "[34]#011train-merror:0.00000#011validation-merror:0.03333\n",
      "[35]#011train-merror:0.00000#011validation-merror:0.03333\n",
      "[36]#011train-merror:0.00000#011validation-merror:0.03333\n",
      "[37]#011train-merror:0.00000#011validation-merror:0.03333\n",
      "[38]#011train-merror:0.00000#011validation-merror:0.03333\n",
      "[39]#011train-merror:0.00000#011validation-merror:0.03333\n",
      "[40]#011train-merror:0.00000#011validation-merror:0.03333\n",
      "[41]#011train-merror:0.00000#011validation-merror:0.03333\n",
      "[42]#011train-merror:0.00000#011validation-merror:0.03333\n",
      "[43]#011train-merror:0.00000#011validation-merror:0.03333\n",
      "[44]#011train-merror:0.00000#011validation-merror:0.03333\n",
      "[45]#011train-merror:0.00000#011validation-merror:0.03333\n",
      "[46]#011train-merror:0.00000#011validation-merror:0.03333\n",
      "[47]#011train-merror:0.00000#011validation-merror:0.03333\n",
      "[48]#011train-merror:0.00000#011validation-merror:0.03333\n",
      "[49]#011train-merror:0.00000#011validation-merror:0.03333\n",
      "[50]#011train-merror:0.00000#011validation-merror:0.03333\n",
      "[51]#011train-merror:0.00000#011validation-merror:0.03333\n",
      "[52]#011train-merror:0.00000#011validation-merror:0.03333\n",
      "[53]#011train-merror:0.00000#011validation-merror:0.03333\n",
      "[54]#011train-merror:0.00000#011validation-merror:0.03333\n",
      "[55]#011train-merror:0.00000#011validation-merror:0.03333\n",
      "[56]#011train-merror:0.00000#011validation-merror:0.03333\n",
      "[57]#011train-merror:0.00000#011validation-merror:0.03333\n",
      "[58]#011train-merror:0.00000#011validation-merror:0.03333\n",
      "[59]#011train-merror:0.00000#011validation-merror:0.03333\n",
      "[60]#011train-merror:0.00000#011validation-merror:0.03333\n",
      "[61]#011train-merror:0.00000#011validation-merror:0.03333\n",
      "[62]#011train-merror:0.00000#011validation-merror:0.03333\n",
      "[63]#011train-merror:0.00000#011validation-merror:0.03333\n",
      "[64]#011train-merror:0.00000#011validation-merror:0.03333\n",
      "[65]#011train-merror:0.00000#011validation-merror:0.03333\n",
      "[66]#011train-merror:0.00000#011validation-merror:0.03333\n",
      "[67]#011train-merror:0.00000#011validation-merror:0.03333\n",
      "[68]#011train-merror:0.00000#011validation-merror:0.03333\n",
      "[69]#011train-merror:0.00000#011validation-merror:0.03333\n",
      "[70]#011train-merror:0.00000#011validation-merror:0.03333\n",
      "[71]#011train-merror:0.00000#011validation-merror:0.03333\n",
      "[72]#011train-merror:0.00000#011validation-merror:0.03333\n",
      "[73]#011train-merror:0.00000#011validation-merror:0.03333\n",
      "[74]#011train-merror:0.00000#011validation-merror:0.03333\n",
      "[75]#011train-merror:0.00000#011validation-merror:0.03333\n",
      "[76]#011train-merror:0.00000#011validation-merror:0.03333\n",
      "[77]#011train-merror:0.00000#011validation-merror:0.03333\n",
      "[78]#011train-merror:0.00000#011validation-merror:0.03333\n",
      "[79]#011train-merror:0.00000#011validation-merror:0.03333\n",
      "[80]#011train-merror:0.00000#011validation-merror:0.03333\n",
      "[81]#011train-merror:0.00000#011validation-merror:0.03333\n",
      "[82]#011train-merror:0.00000#011validation-merror:0.03333\n",
      "[83]#011train-merror:0.00000#011validation-merror:0.03333\n",
      "[84]#011train-merror:0.00000#011validation-merror:0.03333\n",
      "[85]#011train-merror:0.00000#011validation-merror:0.03333\n",
      "[86]#011train-merror:0.00000#011validation-merror:0.03333\n",
      "[87]#011train-merror:0.00000#011validation-merror:0.03333\n",
      "[88]#011train-merror:0.00000#011validation-merror:0.03333\n",
      "[89]#011train-merror:0.00000#011validation-merror:0.03333\n",
      "[90]#011train-merror:0.00000#011validation-merror:0.03333\n",
      "[91]#011train-merror:0.00000#011validation-merror:0.03333\n",
      "[92]#011train-merror:0.00000#011validation-merror:0.03333\n",
      "[93]#011train-merror:0.00000#011validation-merror:0.03333\n",
      "[94]#011train-merror:0.00000#011validation-merror:0.03333\n",
      "[95]#011train-merror:0.00000#011validation-merror:0.03333\n",
      "[96]#011train-merror:0.00000#011validation-merror:0.03333\n",
      "[97]#011train-merror:0.00000#011validation-merror:0.03333\n",
      "[98]#011train-merror:0.00000#011validation-merror:0.03333\n",
      "[99]#011train-merror:0.00000#011validation-merror:0.03333\n",
      "\n",
      "2024-10-27 16:04:51 Uploading - Uploading generated training model\n",
      "2024-10-27 16:04:51 Completed - Training job completed\n",
      "Training seconds: 90\n",
      "Billable seconds: 90\n"
     ]
    }
   ],
   "source": [
    "xgb = sagemaker.estimator.Estimator(\n",
    "    container,\n",
    "    role,\n",
    "    instance_count=1,\n",
    "    instance_type=\"ml.m5.xlarge\",\n",
    "    output_path=f\"s3://{artifact_bucket}/\",\n",
    "    sagemaker_session=sagemaker_session,\n",
    ")\n",
    "\n",
    "xgb.set_hyperparameters(\n",
    "    max_depth=5,\n",
    "    eta=0.2,\n",
    "    objective=\"multi:softmax\",\n",
    "    num_class=num_classes,\n",
    "    num_round=100,\n",
    "    verbosity=1\n",
    ")\n",
    "\n",
    "xgb.fit({\"train\": train_input, \"validation\": validation_input})"
   ]
  },
  {
   "cell_type": "code",
   "execution_count": 68,
   "metadata": {},
   "outputs": [
    {
     "name": "stderr",
     "output_type": "stream",
     "text": [
      "INFO:sagemaker:Creating model with name: sagemaker-xgboost-2024-10-27-16-49-00-837\n",
      "INFO:sagemaker:Creating endpoint-config with name sagemaker-xgboost-2024-10-27-16-49-00-837\n",
      "INFO:sagemaker:Creating endpoint with name sagemaker-xgboost-2024-10-27-16-49-00-837\n"
     ]
    },
    {
     "name": "stdout",
     "output_type": "stream",
     "text": [
      "------!"
     ]
    }
   ],
   "source": [
    "predictor = xgb.deploy(\n",
    "    initial_instance_count=1,\n",
    "    instance_type=\"ml.m5.large\",\n",
    "    serializer=CSVSerializer()\n",
    ")"
   ]
  },
  {
   "cell_type": "code",
   "execution_count": 96,
   "metadata": {},
   "outputs": [
    {
     "name": "stderr",
     "output_type": "stream",
     "text": [
      "WARNING:sagemaker.deprecations:The endpoint attribute has been renamed in sagemaker>=2.\n",
      "See: https://sagemaker.readthedocs.io/en/stable/v2.html for details.\n"
     ]
    },
    {
     "data": {
      "text/plain": [
       "'sagemaker-xgboost-2024-10-27-16-49-00-837'"
      ]
     },
     "execution_count": 96,
     "metadata": {},
     "output_type": "execute_result"
    }
   ],
   "source": [
    "predictor.endpoint"
   ]
  },
  {
   "cell_type": "code",
   "execution_count": 75,
   "metadata": {},
   "outputs": [],
   "source": [
    "def predict(data, rows=500):\n",
    "    split_array = np.array_split(data, int(data.shape[0] / float(rows) + 1))\n",
    "    predictions = \"\"\n",
    "    for array in split_array:\n",
    "        predictions = \"\".join([predictions, predictor.predict(array).decode(\"utf-8\")])\n",
    "\n",
    "    return predictions.split(\"\\n\")[:-1]"
   ]
  },
  {
   "cell_type": "code",
   "execution_count": 76,
   "metadata": {},
   "outputs": [],
   "source": [
    "predictions = predict(test_data.to_numpy()[:, 1:])"
   ]
  },
  {
   "cell_type": "code",
   "execution_count": 79,
   "metadata": {},
   "outputs": [
    {
     "data": {
      "text/plain": [
       "array([[5.1, 3.8, 1.9, 0.4],\n",
       "       [6. , 2.7, 5.1, 1.6],\n",
       "       [5. , 2.3, 3.3, 1. ],\n",
       "       [6.4, 2.7, 5.3, 1.9],\n",
       "       [6.1, 3. , 4.6, 1.4],\n",
       "       [5. , 3.2, 1.2, 0.2],\n",
       "       [5.2, 2.7, 3.9, 1.4],\n",
       "       [5.5, 2.5, 4. , 1.3],\n",
       "       [5.9, 3. , 5.1, 1.8],\n",
       "       [5.8, 2.7, 4.1, 1. ],\n",
       "       [6.2, 2.8, 4.8, 1.8],\n",
       "       [5.1, 3.7, 1.5, 0.4],\n",
       "       [4.9, 3.6, 1.4, 0.1],\n",
       "       [7.1, 3. , 5.9, 2.1],\n",
       "       [6.9, 3.1, 5.1, 2.3]])"
      ]
     },
     "execution_count": 79,
     "metadata": {},
     "output_type": "execute_result"
    }
   ],
   "source": [
    "test_data.to_numpy()[:, 1:]"
   ]
  },
  {
   "cell_type": "code",
   "execution_count": 92,
   "metadata": {},
   "outputs": [],
   "source": [
    "from sklearn.metrics import accuracy_score\n",
    "\n",
    "test_data = pd.read_csv(\"test.csv\", header=None)\n",
    "X_test = test_data.iloc[:, 1:]  \n",
    "y_test = test_data.iloc[:, 0]   \n",
    "\n",
    "\n",
    "X_test_csv = X_test.to_csv(index=False, header=False)\n",
    "\n",
    "# Make predictions\n",
    "predictions = list(map(int, map(float, predictor.predict(X_test_csv).decode(\"utf-8\").split(\",\"))))\n"
   ]
  },
  {
   "cell_type": "code",
   "execution_count": 94,
   "metadata": {},
   "outputs": [
    {
     "name": "stdout",
     "output_type": "stream",
     "text": [
      "Test Accuracy: 93.33%\n"
     ]
    }
   ],
   "source": [
    "# Calculate accuracy\n",
    "accuracy = accuracy_score(y_test, predictions)\n",
    "print(f\"Test Accuracy: {accuracy * 100:.2f}%\")"
   ]
  },
  {
   "cell_type": "markdown",
   "metadata": {},
   "source": [
    "# Extra Code below to register"
   ]
  },
  {
   "cell_type": "code",
   "execution_count": 18,
   "metadata": {},
   "outputs": [
    {
     "name": "stderr",
     "output_type": "stream",
     "text": [
      "INFO:sagemaker:Creating training-job with name: sagemaker-scikit-learn-2024-10-27-11-17-46-591\n"
     ]
    },
    {
     "name": "stdout",
     "output_type": "stream",
     "text": [
      "2024-10-27 11:17:50 Starting - Starting the training job...\n",
      "2024-10-27 11:18:23 Downloading - Downloading input data...\n",
      "2024-10-27 11:18:43 Downloading - Downloading the training image...\n",
      "2024-10-27 11:19:19 Training - Training image download completed. Training in progress..2024-10-27 11:19:26,100 sagemaker-containers INFO     Imported framework sagemaker_sklearn_container.training\n",
      "2024-10-27 11:19:26,102 sagemaker-training-toolkit INFO     No GPUs detected (normal if no gpus installed)\n",
      "2024-10-27 11:19:26,141 sagemaker_sklearn_container.training INFO     Invoking user training script.\n",
      "2024-10-27 11:19:26,293 sagemaker-training-toolkit INFO     No GPUs detected (normal if no gpus installed)\n",
      "2024-10-27 11:19:26,305 sagemaker-training-toolkit INFO     No GPUs detected (normal if no gpus installed)\n",
      "2024-10-27 11:19:26,317 sagemaker-training-toolkit INFO     No GPUs detected (normal if no gpus installed)\n",
      "2024-10-27 11:19:26,325 sagemaker-training-toolkit INFO     Invoking user script\n",
      "Training Env:\n",
      "{\n",
      "    \"additional_framework_parameters\": {},\n",
      "    \"channel_input_dirs\": {\n",
      "        \"train\": \"/opt/ml/input/data/train\"\n",
      "    },\n",
      "    \"current_host\": \"algo-1\",\n",
      "    \"framework_module\": \"sagemaker_sklearn_container.training:main\",\n",
      "    \"hosts\": [\n",
      "        \"algo-1\"\n",
      "    ],\n",
      "    \"hyperparameters\": {\n",
      "        \"max-depth\": \"10\",\n",
      "        \"n-estimators\": \"100\"\n",
      "    },\n",
      "    \"input_config_dir\": \"/opt/ml/input/config\",\n",
      "    \"input_data_config\": {\n",
      "        \"train\": {\n",
      "            \"TrainingInputMode\": \"File\",\n",
      "            \"S3DistributionType\": \"FullyReplicated\",\n",
      "            \"RecordWrapperType\": \"None\"\n",
      "        }\n",
      "    },\n",
      "    \"input_dir\": \"/opt/ml/input\",\n",
      "    \"is_master\": true,\n",
      "    \"job_name\": \"sagemaker-scikit-learn-2024-10-27-11-17-46-591\",\n",
      "    \"log_level\": 20,\n",
      "    \"master_hostname\": \"algo-1\",\n",
      "    \"model_dir\": \"/opt/ml/model\",\n",
      "    \"module_dir\": \"s3://mlops-model-artifact-bucket/sagemaker-scikit-learn-2024-10-27-11-17-46-591/source/sourcedir.tar.gz\",\n",
      "    \"module_name\": \"model_train\",\n",
      "    \"network_interface_name\": \"eth0\",\n",
      "    \"num_cpus\": 4,\n",
      "    \"num_gpus\": 0,\n",
      "    \"output_data_dir\": \"/opt/ml/output/data\",\n",
      "    \"output_dir\": \"/opt/ml/output\",\n",
      "    \"output_intermediate_dir\": \"/opt/ml/output/intermediate\",\n",
      "    \"resource_config\": {\n",
      "        \"current_host\": \"algo-1\",\n",
      "        \"current_instance_type\": \"ml.m5.xlarge\",\n",
      "        \"current_group_name\": \"homogeneousCluster\",\n",
      "        \"hosts\": [\n",
      "            \"algo-1\"\n",
      "        ],\n",
      "        \"instance_groups\": [\n",
      "            {\n",
      "                \"instance_group_name\": \"homogeneousCluster\",\n",
      "                \"instance_type\": \"ml.m5.xlarge\",\n",
      "                \"hosts\": [\n",
      "                    \"algo-1\"\n",
      "                ]\n",
      "            }\n",
      "        ],\n",
      "        \"network_interface_name\": \"eth0\"\n",
      "    },\n",
      "    \"user_entry_point\": \"model_train.py\"\n",
      "}\n",
      "Environment variables:\n",
      "SM_HOSTS=[\"algo-1\"]\n",
      "SM_NETWORK_INTERFACE_NAME=eth0\n",
      "SM_HPS={\"max-depth\":\"10\",\"n-estimators\":\"100\"}\n",
      "SM_USER_ENTRY_POINT=model_train.py\n",
      "SM_FRAMEWORK_PARAMS={}\n",
      "SM_RESOURCE_CONFIG={\"current_group_name\":\"homogeneousCluster\",\"current_host\":\"algo-1\",\"current_instance_type\":\"ml.m5.xlarge\",\"hosts\":[\"algo-1\"],\"instance_groups\":[{\"hosts\":[\"algo-1\"],\"instance_group_name\":\"homogeneousCluster\",\"instance_type\":\"ml.m5.xlarge\"}],\"network_interface_name\":\"eth0\"}\n",
      "SM_INPUT_DATA_CONFIG={\"train\":{\"RecordWrapperType\":\"None\",\"S3DistributionType\":\"FullyReplicated\",\"TrainingInputMode\":\"File\"}}\n",
      "SM_OUTPUT_DATA_DIR=/opt/ml/output/data\n",
      "SM_CHANNELS=[\"train\"]\n",
      "SM_CURRENT_HOST=algo-1\n",
      "SM_MODULE_NAME=model_train\n",
      "SM_LOG_LEVEL=20\n",
      "SM_FRAMEWORK_MODULE=sagemaker_sklearn_container.training:main\n",
      "SM_INPUT_DIR=/opt/ml/input\n",
      "SM_INPUT_CONFIG_DIR=/opt/ml/input/config\n",
      "SM_OUTPUT_DIR=/opt/ml/output\n",
      "SM_NUM_CPUS=4\n",
      "SM_NUM_GPUS=0\n",
      "SM_MODEL_DIR=/opt/ml/model\n",
      "SM_MODULE_DIR=s3://mlops-model-artifact-bucket/sagemaker-scikit-learn-2024-10-27-11-17-46-591/source/sourcedir.tar.gz\n",
      "SM_TRAINING_ENV={\"additional_framework_parameters\":{},\"channel_input_dirs\":{\"train\":\"/opt/ml/input/data/train\"},\"current_host\":\"algo-1\",\"framework_module\":\"sagemaker_sklearn_container.training:main\",\"hosts\":[\"algo-1\"],\"hyperparameters\":{\"max-depth\":\"10\",\"n-estimators\":\"100\"},\"input_config_dir\":\"/opt/ml/input/config\",\"input_data_config\":{\"train\":{\"RecordWrapperType\":\"None\",\"S3DistributionType\":\"FullyReplicated\",\"TrainingInputMode\":\"File\"}},\"input_dir\":\"/opt/ml/input\",\"is_master\":true,\"job_name\":\"sagemaker-scikit-learn-2024-10-27-11-17-46-591\",\"log_level\":20,\"master_hostname\":\"algo-1\",\"model_dir\":\"/opt/ml/model\",\"module_dir\":\"s3://mlops-model-artifact-bucket/sagemaker-scikit-learn-2024-10-27-11-17-46-591/source/sourcedir.tar.gz\",\"module_name\":\"model_train\",\"network_interface_name\":\"eth0\",\"num_cpus\":4,\"num_gpus\":0,\"output_data_dir\":\"/opt/ml/output/data\",\"output_dir\":\"/opt/ml/output\",\"output_intermediate_dir\":\"/opt/ml/output/intermediate\",\"resource_config\":{\"current_group_name\":\"homogeneousCluster\",\"current_host\":\"algo-1\",\"current_instance_type\":\"ml.m5.xlarge\",\"hosts\":[\"algo-1\"],\"instance_groups\":[{\"hosts\":[\"algo-1\"],\"instance_group_name\":\"homogeneousCluster\",\"instance_type\":\"ml.m5.xlarge\"}],\"network_interface_name\":\"eth0\"},\"user_entry_point\":\"model_train.py\"}\n",
      "SM_USER_ARGS=[\"--max-depth\",\"10\",\"--n-estimators\",\"100\"]\n",
      "SM_OUTPUT_INTERMEDIATE_DIR=/opt/ml/output/intermediate\n",
      "SM_CHANNEL_TRAIN=/opt/ml/input/data/train\n",
      "SM_HP_MAX-DEPTH=10\n",
      "SM_HP_N-ESTIMATORS=100\n",
      "PYTHONPATH=/opt/ml/code:/miniconda3/bin:/miniconda3/lib/python37.zip:/miniconda3/lib/python3.7:/miniconda3/lib/python3.7/lib-dynload:/miniconda3/lib/python3.7/site-packages\n",
      "Invoking script with the following command:\n",
      "/miniconda3/bin/python model_train.py --max-depth 10 --n-estimators 100\n",
      "accuracy=1.0\n",
      "2024-10-27 11:19:27,397 sagemaker-containers INFO     Reporting training SUCCESS\n",
      "\n",
      "2024-10-27 11:19:42 Uploading - Uploading generated training model\n",
      "2024-10-27 11:19:42 Completed - Training job completed\n",
      "Training seconds: 80\n",
      "Billable seconds: 80\n"
     ]
    }
   ],
   "source": [
    "sklearn_estimator = SKLearn(\n",
    "    entry_point='model_train.py',\n",
    "    role=role,\n",
    "    instance_count=1,\n",
    "    instance_type='ml.m5.xlarge',\n",
    "    framework_version='0.23-1',\n",
    "    py_version='py3',\n",
    "    hyperparameters=hyperparameters,\n",
    "    output_path='s3://mlops-model-artifact-bucket/'\n",
    ")\n",
    "\n",
    "# Launch the training job\n",
    "sklearn_estimator.fit({'train': 's3://mlops-bucket-files/iris.csv'})"
   ]
  },
  {
   "cell_type": "code",
   "execution_count": 4,
   "metadata": {},
   "outputs": [
    {
     "data": {
      "text/plain": [
       "<sagemaker.estimator._TrainingJob at 0x7f17dda48090>"
      ]
     },
     "execution_count": 4,
     "metadata": {},
     "output_type": "execute_result"
    }
   ],
   "source": [
    "sklearn_estimator.latest_training_job"
   ]
  },
  {
   "cell_type": "code",
   "execution_count": 19,
   "metadata": {},
   "outputs": [],
   "source": [
    "training_job = sagemaker_session.describe_training_job(job_name=sklearn_estimator.latest_training_job.name)"
   ]
  },
  {
   "cell_type": "code",
   "execution_count": 25,
   "metadata": {},
   "outputs": [
    {
     "data": {
      "text/plain": [
       "{'TrainingJobName': 'sagemaker-scikit-learn-2024-10-27-11-17-46-591',\n",
       " 'TrainingJobArn': 'arn:aws:sagemaker:eu-north-1:535002873576:training-job/sagemaker-scikit-learn-2024-10-27-11-17-46-591',\n",
       " 'ModelArtifacts': {'S3ModelArtifacts': 's3://mlops-model-artifact-bucket/sagemaker-scikit-learn-2024-10-27-11-17-46-591/output/model.tar.gz'},\n",
       " 'TrainingJobStatus': 'Completed',\n",
       " 'SecondaryStatus': 'Completed',\n",
       " 'HyperParameters': {'max-depth': '\"10\"',\n",
       "  'n-estimators': '\"100\"',\n",
       "  'sagemaker_container_log_level': '20',\n",
       "  'sagemaker_job_name': '\"sagemaker-scikit-learn-2024-10-27-11-17-46-591\"',\n",
       "  'sagemaker_program': '\"model_train.py\"',\n",
       "  'sagemaker_region': '\"eu-north-1\"',\n",
       "  'sagemaker_submit_directory': '\"s3://mlops-model-artifact-bucket/sagemaker-scikit-learn-2024-10-27-11-17-46-591/source/sourcedir.tar.gz\"'},\n",
       " 'AlgorithmSpecification': {'TrainingImage': '662702820516.dkr.ecr.eu-north-1.amazonaws.com/sagemaker-scikit-learn:0.23-1-cpu-py3',\n",
       "  'TrainingInputMode': 'File',\n",
       "  'MetricDefinitions': [{'Name': 'accuracy', 'Regex': 'accuracy=(.*)'}],\n",
       "  'EnableSageMakerMetricsTimeSeries': False},\n",
       " 'RoleArn': 'arn:aws:iam::535002873576:role/train_pipeline_sagemaker',\n",
       " 'InputDataConfig': [{'ChannelName': 'train',\n",
       "   'DataSource': {'S3DataSource': {'S3DataType': 'S3Prefix',\n",
       "     'S3Uri': 's3://mlops-bucket-files/iris.csv',\n",
       "     'S3DataDistributionType': 'FullyReplicated'}},\n",
       "   'CompressionType': 'None',\n",
       "   'RecordWrapperType': 'None'}],\n",
       " 'OutputDataConfig': {'KmsKeyId': '',\n",
       "  'S3OutputPath': 's3://mlops-model-artifact-bucket/',\n",
       "  'CompressionType': 'GZIP'},\n",
       " 'ResourceConfig': {'InstanceType': 'ml.m5.xlarge',\n",
       "  'InstanceCount': 1,\n",
       "  'VolumeSizeInGB': 30},\n",
       " 'StoppingCondition': {'MaxRuntimeInSeconds': 86400},\n",
       " 'CreationTime': datetime.datetime(2024, 10, 27, 12, 17, 47, 774000, tzinfo=tzlocal()),\n",
       " 'TrainingStartTime': datetime.datetime(2024, 10, 27, 12, 18, 22, 898000, tzinfo=tzlocal()),\n",
       " 'TrainingEndTime': datetime.datetime(2024, 10, 27, 12, 19, 42, 159000, tzinfo=tzlocal()),\n",
       " 'LastModifiedTime': datetime.datetime(2024, 10, 27, 12, 19, 42, 494000, tzinfo=tzlocal()),\n",
       " 'SecondaryStatusTransitions': [{'Status': 'Starting',\n",
       "   'StartTime': datetime.datetime(2024, 10, 27, 12, 17, 47, 774000, tzinfo=tzlocal()),\n",
       "   'EndTime': datetime.datetime(2024, 10, 27, 12, 18, 22, 898000, tzinfo=tzlocal()),\n",
       "   'StatusMessage': 'Preparing the instances for training'},\n",
       "  {'Status': 'Downloading',\n",
       "   'StartTime': datetime.datetime(2024, 10, 27, 12, 18, 22, 898000, tzinfo=tzlocal()),\n",
       "   'EndTime': datetime.datetime(2024, 10, 27, 12, 19, 19, 213000, tzinfo=tzlocal()),\n",
       "   'StatusMessage': 'Downloading the training image'},\n",
       "  {'Status': 'Training',\n",
       "   'StartTime': datetime.datetime(2024, 10, 27, 12, 19, 19, 213000, tzinfo=tzlocal()),\n",
       "   'EndTime': datetime.datetime(2024, 10, 27, 12, 19, 34, 632000, tzinfo=tzlocal()),\n",
       "   'StatusMessage': 'Training image download completed. Training in progress.'},\n",
       "  {'Status': 'Uploading',\n",
       "   'StartTime': datetime.datetime(2024, 10, 27, 12, 19, 34, 632000, tzinfo=tzlocal()),\n",
       "   'EndTime': datetime.datetime(2024, 10, 27, 12, 19, 42, 159000, tzinfo=tzlocal()),\n",
       "   'StatusMessage': 'Uploading generated training model'},\n",
       "  {'Status': 'Completed',\n",
       "   'StartTime': datetime.datetime(2024, 10, 27, 12, 19, 42, 159000, tzinfo=tzlocal()),\n",
       "   'EndTime': datetime.datetime(2024, 10, 27, 12, 19, 42, 159000, tzinfo=tzlocal()),\n",
       "   'StatusMessage': 'Training job completed'}],\n",
       " 'FinalMetricDataList': [{'MetricName': 'accuracy',\n",
       "   'Value': 1.0,\n",
       "   'Timestamp': datetime.datetime(2024, 10, 27, 12, 19, 27, tzinfo=tzlocal())}],\n",
       " 'EnableNetworkIsolation': False,\n",
       " 'EnableInterContainerTrafficEncryption': False,\n",
       " 'EnableManagedSpotTraining': False,\n",
       " 'TrainingTimeInSeconds': 80,\n",
       " 'BillableTimeInSeconds': 80,\n",
       " 'DebugHookConfig': {'S3OutputPath': 's3://mlops-model-artifact-bucket/',\n",
       "  'CollectionConfigurations': []},\n",
       " 'ProfilerConfig': {'S3OutputPath': 's3://mlops-model-artifact-bucket/',\n",
       "  'ProfilingIntervalInMilliseconds': 500,\n",
       "  'DisableProfiler': False},\n",
       " 'ProfilingStatus': 'Enabled',\n",
       " 'ResponseMetadata': {'RequestId': '55afb03f-fcea-40c6-9dea-dc6b0e2ae283',\n",
       "  'HTTPStatusCode': 200,\n",
       "  'HTTPHeaders': {'x-amzn-requestid': '55afb03f-fcea-40c6-9dea-dc6b0e2ae283',\n",
       "   'content-type': 'application/x-amz-json-1.1',\n",
       "   'content-length': '3247',\n",
       "   'date': 'Sun, 27 Oct 2024 11:20:28 GMT'},\n",
       "  'RetryAttempts': 0}}"
      ]
     },
     "execution_count": 25,
     "metadata": {},
     "output_type": "execute_result"
    }
   ],
   "source": [
    "training_job"
   ]
  },
  {
   "cell_type": "code",
   "execution_count": 20,
   "metadata": {},
   "outputs": [],
   "source": [
    "artifact_path = training_job[\"ModelArtifacts\"][\"S3ModelArtifacts\"]"
   ]
  },
  {
   "cell_type": "code",
   "execution_count": 21,
   "metadata": {},
   "outputs": [
    {
     "data": {
      "text/plain": [
       "{'ResponseMetadata': {'RequestId': 'YWMN614EVP51NM89',\n",
       "  'HostId': 'QqOjc5izqHZnr/BWEJBL9ScxI69/560gXDV5/2yvEo3b4Ea4gnkhQ631FXo1EiJNEfxHIdqeZbjePtmtD1/4Jdi2oH/BSsKlGAUjebCONPY=',\n",
       "  'HTTPStatusCode': 200,\n",
       "  'HTTPHeaders': {'x-amz-id-2': 'QqOjc5izqHZnr/BWEJBL9ScxI69/560gXDV5/2yvEo3b4Ea4gnkhQ631FXo1EiJNEfxHIdqeZbjePtmtD1/4Jdi2oH/BSsKlGAUjebCONPY=',\n",
       "   'x-amz-request-id': 'YWMN614EVP51NM89',\n",
       "   'date': 'Sun, 27 Oct 2024 11:20:50 GMT',\n",
       "   'x-amz-server-side-encryption': 'AES256',\n",
       "   'etag': '\"b9863fad01c9be38806317056722173d\"',\n",
       "   'server': 'AmazonS3',\n",
       "   'content-length': '0'},\n",
       "  'RetryAttempts': 0},\n",
       " 'ETag': '\"b9863fad01c9be38806317056722173d\"',\n",
       " 'ServerSideEncryption': 'AES256'}"
      ]
     },
     "execution_count": 21,
     "metadata": {},
     "output_type": "execute_result"
    }
   ],
   "source": [
    "accuracy_metric = training_job.get('FinalMetricDataList')[0]\n",
    "metrics_and_hyperparams = {\n",
    "    accuracy_metric['MetricName']: accuracy_metric['Value'],\n",
    "    'hyperparameters': hyperparameters\n",
    "}\n",
    "metrics_json = json.dumps(metrics_and_hyperparams)\n",
    "\n",
    "metrics_file_key = 'metrics.json'\n",
    "\n",
    "\n",
    "bucket_name = 'mlops-model-artifact-bucket'\n",
    "metrics_file_key = f\"{training_job['TrainingJobName']}/metrics.json\"\n",
    "\n",
    "s3_client.put_object(\n",
    "    Bucket=bucket_name,\n",
    "    Key=metrics_file_key,\n",
    "    Body=metrics_json,\n",
    "    ContentType='application/json'\n",
    ")\n"
   ]
  },
  {
   "cell_type": "code",
   "execution_count": 22,
   "metadata": {},
   "outputs": [
    {
     "data": {
      "text/plain": [
       "[{'MetricName': 'accuracy',\n",
       "  'Value': 1.0,\n",
       "  'Timestamp': datetime.datetime(2024, 10, 27, 12, 19, 27, tzinfo=tzlocal())}]"
      ]
     },
     "execution_count": 22,
     "metadata": {},
     "output_type": "execute_result"
    }
   ],
   "source": [
    "sagemaker_session.describe_training_job(job_name=sklearn_estimator.latest_training_job.name).get('FinalMetricDataList',[])"
   ]
  },
  {
   "cell_type": "code",
   "execution_count": 23,
   "metadata": {},
   "outputs": [
    {
     "data": {
      "text/plain": [
       "<sagemaker.model.ModelPackage at 0x7fafe7dffc10>"
      ]
     },
     "execution_count": 23,
     "metadata": {},
     "output_type": "execute_result"
    }
   ],
   "source": [
    "model = SKLearnModel(\n",
    "    model_data=artifact_path, \n",
    "    role=role,\n",
    "    #entry_point='train.py',\n",
    "    framework_version='0.23-1',\n",
    "    # py_version='py3'\n",
    ")\n",
    "\n",
    "\n",
    "model_metrics = ModelMetrics(\n",
    "    model_statistics=MetricsSource(\n",
    "        s3_uri=f\"s3://mlops-model-artifact-bucket/{training_job['TrainingJobName']}/metrics.json\",\n",
    "        content_type='application/json'\n",
    "    )\n",
    ")\n",
    "\n",
    "\n",
    "model.register(\n",
    "    model_package_group_name=\"mlops-demo-group\",\n",
    "    content_types=['text/csv'],\n",
    "    response_types=['text/csv'],\n",
    "    model_metrics=model_metrics,\n",
    "    inference_instances=['ml.m5.large'],\n",
    "    transform_instances=['ml.m5.large'],\n",
    "    customer_metadata_properties={\"ModelType\": \"Random Forest\"}\n",
    ")"
   ]
  },
  {
   "cell_type": "code",
   "execution_count": 26,
   "metadata": {},
   "outputs": [
    {
     "name": "stderr",
     "output_type": "stream",
     "text": [
      "INFO:sagemaker:Creating model with name: sagemaker-scikit-learn-2024-10-27-11-37-42-955\n",
      "INFO:sagemaker:Creating endpoint-config with name sagemaker-scikit-learn-2024-10-27-11-17-46-591-endpoint\n",
      "INFO:sagemaker:Creating endpoint with name sagemaker-scikit-learn-2024-10-27-11-17-46-591-endpoint\n"
     ]
    },
    {
     "name": "stdout",
     "output_type": "stream",
     "text": [
      "--------------------------------------------*"
     ]
    },
    {
     "name": "stderr",
     "output_type": "stream",
     "text": [
      "ERROR:sagemaker:Please check the troubleshooting guide for common errors: https://docs.aws.amazon.com/sagemaker/latest/dg/sagemaker-python-sdk-troubleshooting.html#sagemaker-python-sdk-troubleshooting-create-endpoint\n"
     ]
    },
    {
     "ename": "UnexpectedStatusException",
     "evalue": "Error hosting endpoint sagemaker-scikit-learn-2024-10-27-11-17-46-591-endpoint: Failed. Reason: The primary container for production variant AllTraffic did not pass the ping health check. Please check CloudWatch logs for this endpoint.. Try changing the instance type or reference the troubleshooting page https://docs.aws.amazon.com/sagemaker/latest/dg/async-inference-troubleshooting.html",
     "output_type": "error",
     "traceback": [
      "\u001b[0;31m---------------------------------------------------------------------------\u001b[0m",
      "\u001b[0;31mUnexpectedStatusException\u001b[0m                 Traceback (most recent call last)",
      "Cell \u001b[0;32mIn[26], line 2\u001b[0m\n\u001b[1;32m      1\u001b[0m \u001b[38;5;66;03m# Deploy the model to an endpoint\u001b[39;00m\n\u001b[0;32m----> 2\u001b[0m predictor \u001b[38;5;241m=\u001b[39m \u001b[43mmodel\u001b[49m\u001b[38;5;241;43m.\u001b[39;49m\u001b[43mdeploy\u001b[49m\u001b[43m(\u001b[49m\n\u001b[1;32m      3\u001b[0m \u001b[43m    \u001b[49m\u001b[43minitial_instance_count\u001b[49m\u001b[38;5;241;43m=\u001b[39;49m\u001b[38;5;241;43m1\u001b[39;49m\u001b[43m,\u001b[49m\n\u001b[1;32m      4\u001b[0m \u001b[43m    \u001b[49m\u001b[43minstance_type\u001b[49m\u001b[38;5;241;43m=\u001b[39;49m\u001b[38;5;124;43m'\u001b[39;49m\u001b[38;5;124;43mml.m5.large\u001b[39;49m\u001b[38;5;124;43m'\u001b[39;49m\u001b[43m,\u001b[49m\n\u001b[1;32m      5\u001b[0m \u001b[43m    \u001b[49m\u001b[43mendpoint_name\u001b[49m\u001b[38;5;241;43m=\u001b[39;49m\u001b[38;5;124;43mf\u001b[39;49m\u001b[38;5;124;43m\"\u001b[39;49m\u001b[38;5;132;43;01m{\u001b[39;49;00m\u001b[43mtraining_job\u001b[49m\u001b[43m[\u001b[49m\u001b[38;5;124;43m'\u001b[39;49m\u001b[38;5;124;43mTrainingJobName\u001b[39;49m\u001b[38;5;124;43m'\u001b[39;49m\u001b[43m]\u001b[49m\u001b[38;5;132;43;01m}\u001b[39;49;00m\u001b[38;5;124;43m-endpoint\u001b[39;49m\u001b[38;5;124;43m\"\u001b[39;49m\u001b[43m,\u001b[49m\n\u001b[1;32m      6\u001b[0m \u001b[43m)\u001b[49m\n\u001b[1;32m      8\u001b[0m \u001b[38;5;66;03m# Test the deployed endpoint\u001b[39;00m\n\u001b[1;32m      9\u001b[0m test_data \u001b[38;5;241m=\u001b[39m [[\u001b[38;5;241m5.1\u001b[39m, \u001b[38;5;241m3.5\u001b[39m, \u001b[38;5;241m1.4\u001b[39m, \u001b[38;5;241m0.2\u001b[39m]]  \u001b[38;5;66;03m# Example input for Iris dataset\u001b[39;00m\n",
      "File \u001b[0;32m~/miniconda3/envs/aws_pipeline/lib/python3.11/site-packages/sagemaker/model.py:1753\u001b[0m, in \u001b[0;36mModel.deploy\u001b[0;34m(self, initial_instance_count, instance_type, serializer, deserializer, accelerator_type, endpoint_name, tags, kms_key, wait, data_capture_config, async_inference_config, serverless_inference_config, volume_size, model_data_download_timeout, container_startup_health_check_timeout, inference_recommendation_id, explainer_config, accept_eula, endpoint_logging, resources, endpoint_type, managed_instance_scaling, inference_component_name, routing_config, model_reference_arn, **kwargs)\u001b[0m\n\u001b[1;32m   1750\u001b[0m \u001b[38;5;28;01mif\u001b[39;00m is_explainer_enabled:\n\u001b[1;32m   1751\u001b[0m     explainer_config_dict \u001b[38;5;241m=\u001b[39m explainer_config\u001b[38;5;241m.\u001b[39m_to_request_dict()\n\u001b[0;32m-> 1753\u001b[0m \u001b[38;5;28;43mself\u001b[39;49m\u001b[38;5;241;43m.\u001b[39;49m\u001b[43msagemaker_session\u001b[49m\u001b[38;5;241;43m.\u001b[39;49m\u001b[43mendpoint_from_production_variants\u001b[49m\u001b[43m(\u001b[49m\n\u001b[1;32m   1754\u001b[0m \u001b[43m    \u001b[49m\u001b[43mname\u001b[49m\u001b[38;5;241;43m=\u001b[39;49m\u001b[38;5;28;43mself\u001b[39;49m\u001b[38;5;241;43m.\u001b[39;49m\u001b[43mendpoint_name\u001b[49m\u001b[43m,\u001b[49m\n\u001b[1;32m   1755\u001b[0m \u001b[43m    \u001b[49m\u001b[43mproduction_variants\u001b[49m\u001b[38;5;241;43m=\u001b[39;49m\u001b[43m[\u001b[49m\u001b[43mproduction_variant\u001b[49m\u001b[43m]\u001b[49m\u001b[43m,\u001b[49m\n\u001b[1;32m   1756\u001b[0m \u001b[43m    \u001b[49m\u001b[43mtags\u001b[49m\u001b[38;5;241;43m=\u001b[39;49m\u001b[43mtags\u001b[49m\u001b[43m,\u001b[49m\n\u001b[1;32m   1757\u001b[0m \u001b[43m    \u001b[49m\u001b[43mkms_key\u001b[49m\u001b[38;5;241;43m=\u001b[39;49m\u001b[43mkms_key\u001b[49m\u001b[43m,\u001b[49m\n\u001b[1;32m   1758\u001b[0m \u001b[43m    \u001b[49m\u001b[43mwait\u001b[49m\u001b[38;5;241;43m=\u001b[39;49m\u001b[43mwait\u001b[49m\u001b[43m,\u001b[49m\n\u001b[1;32m   1759\u001b[0m \u001b[43m    \u001b[49m\u001b[43mdata_capture_config_dict\u001b[49m\u001b[38;5;241;43m=\u001b[39;49m\u001b[43mdata_capture_config_dict\u001b[49m\u001b[43m,\u001b[49m\n\u001b[1;32m   1760\u001b[0m \u001b[43m    \u001b[49m\u001b[43mexplainer_config_dict\u001b[49m\u001b[38;5;241;43m=\u001b[39;49m\u001b[43mexplainer_config_dict\u001b[49m\u001b[43m,\u001b[49m\n\u001b[1;32m   1761\u001b[0m \u001b[43m    \u001b[49m\u001b[43masync_inference_config_dict\u001b[49m\u001b[38;5;241;43m=\u001b[39;49m\u001b[43masync_inference_config_dict\u001b[49m\u001b[43m,\u001b[49m\n\u001b[1;32m   1762\u001b[0m \u001b[43m    \u001b[49m\u001b[43mlive_logging\u001b[49m\u001b[38;5;241;43m=\u001b[39;49m\u001b[43mendpoint_logging\u001b[49m\u001b[43m,\u001b[49m\n\u001b[1;32m   1763\u001b[0m \u001b[43m\u001b[49m\u001b[43m)\u001b[49m\n\u001b[1;32m   1765\u001b[0m \u001b[38;5;28;01mif\u001b[39;00m \u001b[38;5;28mself\u001b[39m\u001b[38;5;241m.\u001b[39mpredictor_cls:\n\u001b[1;32m   1766\u001b[0m     predictor \u001b[38;5;241m=\u001b[39m \u001b[38;5;28mself\u001b[39m\u001b[38;5;241m.\u001b[39mpredictor_cls(\u001b[38;5;28mself\u001b[39m\u001b[38;5;241m.\u001b[39mendpoint_name, \u001b[38;5;28mself\u001b[39m\u001b[38;5;241m.\u001b[39msagemaker_session)\n",
      "File \u001b[0;32m~/miniconda3/envs/aws_pipeline/lib/python3.11/site-packages/sagemaker/session.py:5820\u001b[0m, in \u001b[0;36mSession.endpoint_from_production_variants\u001b[0;34m(self, name, production_variants, tags, kms_key, wait, data_capture_config_dict, async_inference_config_dict, explainer_config_dict, live_logging, vpc_config, enable_network_isolation, role)\u001b[0m\n\u001b[1;32m   5817\u001b[0m logger\u001b[38;5;241m.\u001b[39minfo(\u001b[38;5;124m\"\u001b[39m\u001b[38;5;124mCreating endpoint-config with name \u001b[39m\u001b[38;5;132;01m%s\u001b[39;00m\u001b[38;5;124m\"\u001b[39m, name)\n\u001b[1;32m   5818\u001b[0m \u001b[38;5;28mself\u001b[39m\u001b[38;5;241m.\u001b[39msagemaker_client\u001b[38;5;241m.\u001b[39mcreate_endpoint_config(\u001b[38;5;241m*\u001b[39m\u001b[38;5;241m*\u001b[39mconfig_options)\n\u001b[0;32m-> 5820\u001b[0m \u001b[38;5;28;01mreturn\u001b[39;00m \u001b[38;5;28;43mself\u001b[39;49m\u001b[38;5;241;43m.\u001b[39;49m\u001b[43mcreate_endpoint\u001b[49m\u001b[43m(\u001b[49m\n\u001b[1;32m   5821\u001b[0m \u001b[43m    \u001b[49m\u001b[43mendpoint_name\u001b[49m\u001b[38;5;241;43m=\u001b[39;49m\u001b[43mname\u001b[49m\u001b[43m,\u001b[49m\n\u001b[1;32m   5822\u001b[0m \u001b[43m    \u001b[49m\u001b[43mconfig_name\u001b[49m\u001b[38;5;241;43m=\u001b[39;49m\u001b[43mname\u001b[49m\u001b[43m,\u001b[49m\n\u001b[1;32m   5823\u001b[0m \u001b[43m    \u001b[49m\u001b[43mtags\u001b[49m\u001b[38;5;241;43m=\u001b[39;49m\u001b[43mendpoint_tags\u001b[49m\u001b[43m,\u001b[49m\n\u001b[1;32m   5824\u001b[0m \u001b[43m    \u001b[49m\u001b[43mwait\u001b[49m\u001b[38;5;241;43m=\u001b[39;49m\u001b[43mwait\u001b[49m\u001b[43m,\u001b[49m\n\u001b[1;32m   5825\u001b[0m \u001b[43m    \u001b[49m\u001b[43mlive_logging\u001b[49m\u001b[38;5;241;43m=\u001b[39;49m\u001b[43mlive_logging\u001b[49m\u001b[43m,\u001b[49m\n\u001b[1;32m   5826\u001b[0m \u001b[43m\u001b[49m\u001b[43m)\u001b[49m\n",
      "File \u001b[0;32m~/miniconda3/envs/aws_pipeline/lib/python3.11/site-packages/sagemaker/session.py:4665\u001b[0m, in \u001b[0;36mSession.create_endpoint\u001b[0;34m(self, endpoint_name, config_name, tags, wait, live_logging)\u001b[0m\n\u001b[1;32m   4657\u001b[0m troubleshooting \u001b[38;5;241m=\u001b[39m (\n\u001b[1;32m   4658\u001b[0m     \u001b[38;5;124m\"\u001b[39m\u001b[38;5;124mhttps://docs.aws.amazon.com/sagemaker/latest/dg/\u001b[39m\u001b[38;5;124m\"\u001b[39m\n\u001b[1;32m   4659\u001b[0m     \u001b[38;5;124m\"\u001b[39m\u001b[38;5;124msagemaker-python-sdk-troubleshooting.html\u001b[39m\u001b[38;5;124m\"\u001b[39m\n\u001b[1;32m   4660\u001b[0m     \u001b[38;5;124m\"\u001b[39m\u001b[38;5;124m#sagemaker-python-sdk-troubleshooting-create-endpoint\u001b[39m\u001b[38;5;124m\"\u001b[39m\n\u001b[1;32m   4661\u001b[0m )\n\u001b[1;32m   4662\u001b[0m logger\u001b[38;5;241m.\u001b[39merror(\n\u001b[1;32m   4663\u001b[0m     \u001b[38;5;124m\"\u001b[39m\u001b[38;5;124mPlease check the troubleshooting guide for common errors: \u001b[39m\u001b[38;5;132;01m%s\u001b[39;00m\u001b[38;5;124m\"\u001b[39m, troubleshooting\n\u001b[1;32m   4664\u001b[0m )\n\u001b[0;32m-> 4665\u001b[0m \u001b[38;5;28;01mraise\u001b[39;00m e\n",
      "File \u001b[0;32m~/miniconda3/envs/aws_pipeline/lib/python3.11/site-packages/sagemaker/session.py:4654\u001b[0m, in \u001b[0;36mSession.create_endpoint\u001b[0;34m(self, endpoint_name, config_name, tags, wait, live_logging)\u001b[0m\n\u001b[1;32m   4651\u001b[0m         \u001b[38;5;28mself\u001b[39m\u001b[38;5;241m.\u001b[39mendpoint_arn \u001b[38;5;241m=\u001b[39m res[\u001b[38;5;124m\"\u001b[39m\u001b[38;5;124mEndpointArn\u001b[39m\u001b[38;5;124m\"\u001b[39m]\n\u001b[1;32m   4653\u001b[0m     \u001b[38;5;28;01mif\u001b[39;00m wait:\n\u001b[0;32m-> 4654\u001b[0m         \u001b[38;5;28;43mself\u001b[39;49m\u001b[38;5;241;43m.\u001b[39;49m\u001b[43mwait_for_endpoint\u001b[49m\u001b[43m(\u001b[49m\u001b[43mendpoint_name\u001b[49m\u001b[43m,\u001b[49m\u001b[43m \u001b[49m\u001b[43mlive_logging\u001b[49m\u001b[38;5;241;43m=\u001b[39;49m\u001b[43mlive_logging\u001b[49m\u001b[43m)\u001b[49m\n\u001b[1;32m   4655\u001b[0m     \u001b[38;5;28;01mreturn\u001b[39;00m endpoint_name\n\u001b[1;32m   4656\u001b[0m \u001b[38;5;28;01mexcept\u001b[39;00m \u001b[38;5;167;01mException\u001b[39;00m \u001b[38;5;28;01mas\u001b[39;00m e:\n",
      "File \u001b[0;32m~/miniconda3/envs/aws_pipeline/lib/python3.11/site-packages/sagemaker/session.py:5463\u001b[0m, in \u001b[0;36mSession.wait_for_endpoint\u001b[0;34m(self, endpoint, poll, live_logging)\u001b[0m\n\u001b[1;32m   5457\u001b[0m     \u001b[38;5;28;01mif\u001b[39;00m \u001b[38;5;124m\"\u001b[39m\u001b[38;5;124mCapacityError\u001b[39m\u001b[38;5;124m\"\u001b[39m \u001b[38;5;129;01min\u001b[39;00m \u001b[38;5;28mstr\u001b[39m(reason):\n\u001b[1;32m   5458\u001b[0m         \u001b[38;5;28;01mraise\u001b[39;00m exceptions\u001b[38;5;241m.\u001b[39mCapacityError(\n\u001b[1;32m   5459\u001b[0m             message\u001b[38;5;241m=\u001b[39mmessage,\n\u001b[1;32m   5460\u001b[0m             allowed_statuses\u001b[38;5;241m=\u001b[39m[\u001b[38;5;124m\"\u001b[39m\u001b[38;5;124mInService\u001b[39m\u001b[38;5;124m\"\u001b[39m],\n\u001b[1;32m   5461\u001b[0m             actual_status\u001b[38;5;241m=\u001b[39mstatus,\n\u001b[1;32m   5462\u001b[0m         )\n\u001b[0;32m-> 5463\u001b[0m     \u001b[38;5;28;01mraise\u001b[39;00m exceptions\u001b[38;5;241m.\u001b[39mUnexpectedStatusException(\n\u001b[1;32m   5464\u001b[0m         message\u001b[38;5;241m=\u001b[39mmessage,\n\u001b[1;32m   5465\u001b[0m         allowed_statuses\u001b[38;5;241m=\u001b[39m[\u001b[38;5;124m\"\u001b[39m\u001b[38;5;124mInService\u001b[39m\u001b[38;5;124m\"\u001b[39m],\n\u001b[1;32m   5466\u001b[0m         actual_status\u001b[38;5;241m=\u001b[39mstatus,\n\u001b[1;32m   5467\u001b[0m     )\n\u001b[1;32m   5468\u001b[0m \u001b[38;5;28;01mreturn\u001b[39;00m desc\n",
      "\u001b[0;31mUnexpectedStatusException\u001b[0m: Error hosting endpoint sagemaker-scikit-learn-2024-10-27-11-17-46-591-endpoint: Failed. Reason: The primary container for production variant AllTraffic did not pass the ping health check. Please check CloudWatch logs for this endpoint.. Try changing the instance type or reference the troubleshooting page https://docs.aws.amazon.com/sagemaker/latest/dg/async-inference-troubleshooting.html"
     ]
    }
   ],
   "source": [
    "# Deploy the model to an endpoint\n",
    "predictor = model.deploy(\n",
    "    initial_instance_count=1,\n",
    "    instance_type='ml.m5.large',\n",
    "    endpoint_name=f\"{training_job['TrainingJobName']}-endpoint\",\n",
    ")\n",
    "\n",
    "# Test the deployed endpoint\n",
    "test_data = [[5.1, 3.5, 1.4, 0.2]]  # Example input for Iris dataset\n",
    "predictions = predictor.predict(test_data)\n",
    "print(f\"Predictions: {predictions}\")\n"
   ]
  }
 ],
 "metadata": {
  "kernelspec": {
   "display_name": "aws_pipeline",
   "language": "python",
   "name": "python3"
  },
  "language_info": {
   "codemirror_mode": {
    "name": "ipython",
    "version": 3
   },
   "file_extension": ".py",
   "mimetype": "text/x-python",
   "name": "python",
   "nbconvert_exporter": "python",
   "pygments_lexer": "ipython3",
   "version": "3.11.10"
  }
 },
 "nbformat": 4,
 "nbformat_minor": 2
}
